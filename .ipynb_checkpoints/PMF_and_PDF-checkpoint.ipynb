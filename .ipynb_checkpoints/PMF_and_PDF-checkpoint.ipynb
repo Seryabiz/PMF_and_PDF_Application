{
 "cells": [
  {
   "cell_type": "markdown",
   "id": "c8cc52a9-4e57-48f4-8500-8de221a58274",
   "metadata": {},
   "source": [
    "# Statistics"
   ]
  },
  {
   "cell_type": "markdown",
   "id": "616b85b9-a23e-4719-ab76-2d4b62398787",
   "metadata": {},
   "source": [
    "I intend to use the titanic dataset from seaborn to demonstrate the difference and applications of a **Probability Mass Function** and **Probability Density Function**."
   ]
  },
  {
   "cell_type": "code",
   "execution_count": 1,
   "id": "810ff547-da70-4620-9d0e-87a75dc2044a",
   "metadata": {},
   "outputs": [],
   "source": [
    "# scipy - scientific python. A library used to do statistical calculation\n",
    "from scipy.stats import norm"
   ]
  },
  {
   "cell_type": "markdown",
   "id": "7b4443fb-3c5c-4060-919f-779d676f7c21",
   "metadata": {},
   "source": [
    "## PMF\n",
    "The PMF(Probability Mass Function) is used to describe probabilities of a discrete random variable"
   ]
  },
  {
   "cell_type": "code",
   "execution_count": 2,
   "id": "e401bf4a-37d3-421e-978f-b0fdda77cf40",
   "metadata": {},
   "outputs": [
    {
     "data": {
      "text/plain": [
       "Counter({1: 4, 2: 4, 3: 2, 5: 2, 4: 1})"
      ]
     },
     "execution_count": 2,
     "metadata": {},
     "output_type": "execute_result"
    }
   ],
   "source": [
    "import collections\n",
    "x = [1,1,1,1,2,2,2,2,3,3,4,5,5]\n",
    "count_numbers = collections.Counter(x)\n",
    "count_numbers"
   ]
  },
  {
   "cell_type": "code",
   "execution_count": 3,
   "id": "4ca8abe1-36c9-4ce9-9139-e126471c69e1",
   "metadata": {},
   "outputs": [
    {
     "name": "stdout",
     "output_type": "stream",
     "text": [
      "[3, 4, 2, 2, 4, 4, 1, 3, 1, 4, 4, 4, 3]\n"
     ]
    }
   ],
   "source": [
    "import random\n",
    "x = []\n",
    "for v in range(13):\n",
    "    x.append(random.randrange(1,5,1))\n",
    "print(x)"
   ]
  },
  {
   "cell_type": "code",
   "execution_count": 4,
   "id": "1e7bffa9-ba6c-410a-bd1d-7baf67fdb439",
   "metadata": {},
   "outputs": [],
   "source": [
    "import matplotlib.pyplot as plt"
   ]
  },
  {
   "cell_type": "code",
   "execution_count": 5,
   "id": "064361f5-f267-4d78-8816-c53140ac789f",
   "metadata": {},
   "outputs": [
    {
     "data": {
      "text/plain": [
       "dict_keys([1, 2, 3, 4, 5])"
      ]
     },
     "execution_count": 5,
     "metadata": {},
     "output_type": "execute_result"
    }
   ],
   "source": [
    "outcomes = count_numbers.keys()\n",
    "outcomes"
   ]
  },
  {
   "cell_type": "code",
   "execution_count": 6,
   "id": "e812bd3a-c7e5-49c4-9f3d-d5a79c6906ad",
   "metadata": {},
   "outputs": [],
   "source": [
    "def p(x_i):\n",
    "    frequency = count_numbers[x_i]\n",
    "    total = len(x)\n",
    "    return frequency/total"
   ]
  },
  {
   "cell_type": "code",
   "execution_count": 7,
   "id": "e3972a0f-7517-4eec-acdf-a283f14bf3bb",
   "metadata": {},
   "outputs": [
    {
     "data": {
      "image/png": "[encoded data removed]",
      "text/plain": [
       "<Figure size 500x1000 with 1 Axes>"
      ]
     },
     "metadata": {},
     "output_type": "display_data"
    }
   ],
   "source": [
    "fig , ax = plt.subplots(figsize = (5,10))\n",
    "ax.bar(outcomes,[p(x_i) for x_i in outcomes])\n",
    "ax.set_title(\"Probabilty Mass Function\")\n",
    "ax.set_xlabel(\"Outcomes\")\n",
    "ax.set_ylabel(\"Probabilities of outcomes\");"
   ]
  },
  {
   "cell_type": "markdown",
   "id": "e594185c-fc4c-414c-9003-ae4a847fe3ca",
   "metadata": {},
   "source": [
    "### Calculate the PMF for surviving in the Titanic Tragedy"
   ]
  },
  {
   "cell_type": "code",
   "execution_count": 8,
   "id": "e06190ae-6ae6-4b2f-8d2d-10e14a8b09a8",
   "metadata": {},
   "outputs": [],
   "source": [
    "import seaborn as sns\n",
    "import pandas as pd"
   ]
  },
  {
   "cell_type": "code",
   "execution_count": 9,
   "id": "3a7420bf-b739-4787-8a00-09879e4fd3da",
   "metadata": {},
   "outputs": [],
   "source": [
    "# load the titanic dataset from seaborn\n",
    "titanic = sns.load_dataset('titanic')"
   ]
  },
  {
   "cell_type": "code",
   "execution_count": 10,
   "id": "f5658f90-82ea-4f6e-bf51-01db64315a66",
   "metadata": {},
   "outputs": [
    {
     "name": "stdout",
     "output_type": "stream",
     "text": [
      "<class 'pandas.core.frame.DataFrame'>\n",
      "RangeIndex: 891 entries, 0 to 890\n",
      "Data columns (total 15 columns):\n",
      " #   Column       Non-Null Count  Dtype   \n",
      "---  ------       --------------  -----   \n",
      " 0   survived     891 non-null    int64   \n",
      " 1   pclass       891 non-null    int64   \n",
      " 2   sex          891 non-null    object  \n",
      " 3   age          714 non-null    float64 \n",
      " 4   sibsp        891 non-null    int64   \n",
      " 5   parch        891 non-null    int64   \n",
      " 6   fare         891 non-null    float64 \n",
      " 7   embarked     889 non-null    object  \n",
      " 8   class        891 non-null    category\n",
      " 9   who          891 non-null    object  \n",
      " 10  adult_male   891 non-null    bool    \n",
      " 11  deck         203 non-null    category\n",
      " 12  embark_town  889 non-null    object  \n",
      " 13  alive        891 non-null    object  \n",
      " 14  alone        891 non-null    bool    \n",
      "dtypes: bool(2), category(2), float64(2), int64(4), object(5)\n",
      "memory usage: 80.7+ KB\n"
     ]
    }
   ],
   "source": [
    "titanic.info()"
   ]
  },
  {
   "cell_type": "code",
   "execution_count": 11,
   "id": "68323d1b-87bc-41e5-843a-28e4504e51c8",
   "metadata": {},
   "outputs": [],
   "source": [
    "survival = titanic['survived'].value_counts()"
   ]
  },
  {
   "cell_type": "code",
   "execution_count": 12,
   "id": "3da26362-0620-4930-b098-5ab567ff765b",
   "metadata": {},
   "outputs": [
    {
     "name": "stdout",
     "output_type": "stream",
     "text": [
      "The total number of passengers in the Titanic was 891. \n",
      "The number of survivors was 342 meaning the deaths were 549\n"
     ]
    }
   ],
   "source": [
    "survivors = survival[1]\n",
    "non_survivors = survival[0]\n",
    "total_passengers = survival.sum()\n",
    "print(f\"\"\"The total number of passengers in the Titanic was {total_passengers}. \n",
    "The number of survivors was {survivors} meaning the deaths were {non_survivors}\"\"\")"
   ]
  },
  {
   "cell_type": "code",
   "execution_count": 13,
   "id": "f5323c40-fb8c-423f-952b-cc1480ea2b86",
   "metadata": {},
   "outputs": [
    {
     "data": {
      "text/plain": [
       "survived\n",
       "0    0.616162\n",
       "1    0.383838\n",
       "Name: count, dtype: float64"
      ]
     },
     "execution_count": 13,
     "metadata": {},
     "output_type": "execute_result"
    }
   ],
   "source": [
    "pmf_survival = survival/total_passengers\n",
    "pmf_survival"
   ]
  },
  {
   "cell_type": "code",
   "execution_count": 14,
   "id": "4ee05816-57c3-4a41-840d-164ed7bca720",
   "metadata": {},
   "outputs": [
    {
     "name": "stdout",
     "output_type": "stream",
     "text": [
      "From the above result, the probabilty of surviving in the Titanic tragedy is 0.3838383838383838.\n"
     ]
    }
   ],
   "source": [
    "print(f'''From the above result, the probabilty of surviving in the Titanic tragedy is {pmf_survival[1]}.''')"
   ]
  },
  {
   "cell_type": "code",
   "execution_count": 15,
   "id": "22651fac-02f1-42f4-ac2e-577049a90c18",
   "metadata": {},
   "outputs": [
    {
     "data": {
      "text/plain": [
       "not_survive    0.616162\n",
       "survive        0.383838\n",
       "Name: count, dtype: float64"
      ]
     },
     "execution_count": 15,
     "metadata": {},
     "output_type": "execute_result"
    }
   ],
   "source": [
    "pmf_survival.index = ['not_survive','survive']\n",
    "pmf_survival"
   ]
  },
  {
   "cell_type": "code",
   "execution_count": 16,
   "id": "38571b54-b2f7-4d61-a6c8-1595c5eba1fe",
   "metadata": {},
   "outputs": [
    {
     "data": {
      "text/html": [
       "<div>\n",
       "<style scoped>\n",
       "    .dataframe tbody tr th:only-of-type {\n",
       "        vertical-align: middle;\n",
       "    }\n",
       "\n",
       "    .dataframe tbody tr th {\n",
       "        vertical-align: top;\n",
       "    }\n",
       "\n",
       "    .dataframe thead th {\n",
       "        text-align: right;\n",
       "    }\n",
       "</style>\n",
       "<table border=\"1\" class=\"dataframe\">\n",
       "  <thead>\n",
       "    <tr style=\"text-align: right;\">\n",
       "      <th></th>\n",
       "      <th>index</th>\n",
       "      <th>count</th>\n",
       "    </tr>\n",
       "  </thead>\n",
       "  <tbody>\n",
       "    <tr>\n",
       "      <th>0</th>\n",
       "      <td>not_survive</td>\n",
       "      <td>0.616162</td>\n",
       "    </tr>\n",
       "    <tr>\n",
       "      <th>1</th>\n",
       "      <td>survive</td>\n",
       "      <td>0.383838</td>\n",
       "    </tr>\n",
       "  </tbody>\n",
       "</table>\n",
       "</div>"
      ],
      "text/plain": [
       "         index     count\n",
       "0  not_survive  0.616162\n",
       "1      survive  0.383838"
      ]
     },
     "execution_count": 16,
     "metadata": {},
     "output_type": "execute_result"
    }
   ],
   "source": [
    "df = pd.DataFrame(pmf_survival).reset_index()\n",
    "df"
   ]
  },
  {
   "cell_type": "code",
   "execution_count": 17,
   "id": "72a316e1-8410-4fae-8250-f75cd2e05130",
   "metadata": {},
   "outputs": [
    {
     "data": {
      "text/html": [
       "<div>\n",
       "<style scoped>\n",
       "    .dataframe tbody tr th:only-of-type {\n",
       "        vertical-align: middle;\n",
       "    }\n",
       "\n",
       "    .dataframe tbody tr th {\n",
       "        vertical-align: top;\n",
       "    }\n",
       "\n",
       "    .dataframe thead th {\n",
       "        text-align: right;\n",
       "    }\n",
       "</style>\n",
       "<table border=\"1\" class=\"dataframe\">\n",
       "  <thead>\n",
       "    <tr style=\"text-align: right;\">\n",
       "      <th></th>\n",
       "      <th>variable</th>\n",
       "      <th>PMF</th>\n",
       "    </tr>\n",
       "  </thead>\n",
       "  <tbody>\n",
       "    <tr>\n",
       "      <th>0</th>\n",
       "      <td>not_survive</td>\n",
       "      <td>0.616162</td>\n",
       "    </tr>\n",
       "    <tr>\n",
       "      <th>1</th>\n",
       "      <td>survive</td>\n",
       "      <td>0.383838</td>\n",
       "    </tr>\n",
       "  </tbody>\n",
       "</table>\n",
       "</div>"
      ],
      "text/plain": [
       "      variable       PMF\n",
       "0  not_survive  0.616162\n",
       "1      survive  0.383838"
      ]
     },
     "execution_count": 17,
     "metadata": {},
     "output_type": "execute_result"
    }
   ],
   "source": [
    "df.rename(columns = {\"count\":\"PMF\",\"index\":'variable'},inplace = True)\n",
    "df"
   ]
  },
  {
   "cell_type": "code",
   "execution_count": 18,
   "id": "f2a8d606-9871-4906-834a-a5df024047c7",
   "metadata": {},
   "outputs": [
    {
     "data": {
      "image/png": "[encoded data removed]",
      "text/plain": [
       "<Figure size 800x500 with 1 Axes>"
      ]
     },
     "metadata": {},
     "output_type": "display_data"
    }
   ],
   "source": [
    "# plot the PMF\n",
    "fig, ax = plt.subplots(figsize = (8,5))\n",
    "ax.bar(df['variable'],df['PMF'])\n",
    "ax.set_title('Probability Mass Function for Survival')\n",
    "ax.set_ylabel('Probabilities')\n",
    "ax.set_xlabel('Variable');"
   ]
  },
  {
   "cell_type": "markdown",
   "id": "c7999293-dc83-4f5c-8b17-7d6a47107353",
   "metadata": {},
   "source": [
    "## PDF\n",
    "The PDF(Probability Density Function) is used in calculating the probability of a continuous random variable"
   ]
  },
  {
   "cell_type": "code",
   "execution_count": 19,
   "id": "3772850a-da26-4844-9372-1f0b4c03bf25",
   "metadata": {},
   "outputs": [
    {
     "data": {
      "text/html": [
       "<div>\n",
       "<style scoped>\n",
       "    .dataframe tbody tr th:only-of-type {\n",
       "        vertical-align: middle;\n",
       "    }\n",
       "\n",
       "    .dataframe tbody tr th {\n",
       "        vertical-align: top;\n",
       "    }\n",
       "\n",
       "    .dataframe thead th {\n",
       "        text-align: right;\n",
       "    }\n",
       "</style>\n",
       "<table border=\"1\" class=\"dataframe\">\n",
       "  <thead>\n",
       "    <tr style=\"text-align: right;\">\n",
       "      <th></th>\n",
       "      <th>age</th>\n",
       "      <th>survived</th>\n",
       "    </tr>\n",
       "  </thead>\n",
       "  <tbody>\n",
       "    <tr>\n",
       "      <th>0</th>\n",
       "      <td>22.0</td>\n",
       "      <td>0</td>\n",
       "    </tr>\n",
       "    <tr>\n",
       "      <th>1</th>\n",
       "      <td>38.0</td>\n",
       "      <td>1</td>\n",
       "    </tr>\n",
       "    <tr>\n",
       "      <th>2</th>\n",
       "      <td>26.0</td>\n",
       "      <td>1</td>\n",
       "    </tr>\n",
       "    <tr>\n",
       "      <th>3</th>\n",
       "      <td>35.0</td>\n",
       "      <td>1</td>\n",
       "    </tr>\n",
       "    <tr>\n",
       "      <th>4</th>\n",
       "      <td>35.0</td>\n",
       "      <td>0</td>\n",
       "    </tr>\n",
       "  </tbody>\n",
       "</table>\n",
       "</div>"
      ],
      "text/plain": [
       "    age  survived\n",
       "0  22.0         0\n",
       "1  38.0         1\n",
       "2  26.0         1\n",
       "3  35.0         1\n",
       "4  35.0         0"
      ]
     },
     "execution_count": 19,
     "metadata": {},
     "output_type": "execute_result"
    }
   ],
   "source": [
    "df2 = titanic[['age','survived']].dropna()\n",
    "df2.head()"
   ]
  },
  {
   "cell_type": "code",
   "execution_count": 20,
   "id": "78c8c55c-2703-4852-8846-8b8fd84f08af",
   "metadata": {},
   "outputs": [
    {
     "name": "stderr",
     "output_type": "stream",
     "text": [
      "C:\\Users\\admin\\anaconda3\\Lib\\site-packages\\seaborn\\_oldcore.py:1119: FutureWarning: use_inf_as_na option is deprecated and will be removed in a future version. Convert inf values to NaN before operating instead.\n",
      "  with pd.option_context('mode.use_inf_as_na', True):\n",
      "C:\\Users\\admin\\anaconda3\\Lib\\site-packages\\seaborn\\_oldcore.py:1119: FutureWarning: use_inf_as_na option is deprecated and will be removed in a future version. Convert inf values to NaN before operating instead.\n",
      "  with pd.option_context('mode.use_inf_as_na', True):\n"
     ]
    },
    {
     "data": {
      "image/png": "[encoded data removed]",
      "text/plain": [
       "<Figure size 1000x600 with 1 Axes>"
      ]
     },
     "metadata": {},
     "output_type": "display_data"
    }
   ],
   "source": [
    "#plot the kernal density plot to show the age of both groups\n",
    "fig, ax = plt.subplots(figsize = (10,6))\n",
    "sns.kdeplot(data = df2[df2['survived'] == 1]['age'], fill = True, label = 'survived', color = 'green')\n",
    "sns.kdeplot(data = df2[df2['survived'] == 0]['age'], fill = True, label = 'survived', color = 'red');"
   ]
  },
  {
   "cell_type": "code",
   "execution_count": 21,
   "id": "35720178-4f2b-46d5-9472-90f83b34121a",
   "metadata": {},
   "outputs": [
    {
     "data": {
      "text/html": [
       "<div>\n",
       "<style scoped>\n",
       "    .dataframe tbody tr th:only-of-type {\n",
       "        vertical-align: middle;\n",
       "    }\n",
       "\n",
       "    .dataframe tbody tr th {\n",
       "        vertical-align: top;\n",
       "    }\n",
       "\n",
       "    .dataframe thead th {\n",
       "        text-align: right;\n",
       "    }\n",
       "</style>\n",
       "<table border=\"1\" class=\"dataframe\">\n",
       "  <thead>\n",
       "    <tr style=\"text-align: right;\">\n",
       "      <th></th>\n",
       "      <th>age</th>\n",
       "      <th>survived</th>\n",
       "    </tr>\n",
       "  </thead>\n",
       "  <tbody>\n",
       "    <tr>\n",
       "      <th>0</th>\n",
       "      <td>22.0</td>\n",
       "      <td>0</td>\n",
       "    </tr>\n",
       "    <tr>\n",
       "      <th>1</th>\n",
       "      <td>38.0</td>\n",
       "      <td>1</td>\n",
       "    </tr>\n",
       "    <tr>\n",
       "      <th>2</th>\n",
       "      <td>26.0</td>\n",
       "      <td>1</td>\n",
       "    </tr>\n",
       "    <tr>\n",
       "      <th>3</th>\n",
       "      <td>35.0</td>\n",
       "      <td>1</td>\n",
       "    </tr>\n",
       "    <tr>\n",
       "      <th>4</th>\n",
       "      <td>35.0</td>\n",
       "      <td>0</td>\n",
       "    </tr>\n",
       "  </tbody>\n",
       "</table>\n",
       "</div>"
      ],
      "text/plain": [
       "    age  survived\n",
       "0  22.0         0\n",
       "1  38.0         1\n",
       "2  26.0         1\n",
       "3  35.0         1\n",
       "4  35.0         0"
      ]
     },
     "execution_count": 21,
     "metadata": {},
     "output_type": "execute_result"
    }
   ],
   "source": [
    "age_min, age_max = 20,40\n",
    "filtered_df = df2[(df2['age']>=age_min) & (df2['age']<=age_max)]\n",
    "filtered_df.head()"
   ]
  },
  {
   "cell_type": "code",
   "execution_count": 22,
   "id": "8aedc1ae-69b7-4762-8733-b612c03b9bc2",
   "metadata": {},
   "outputs": [
    {
     "data": {
      "text/html": [
       "<div>\n",
       "<style scoped>\n",
       "    .dataframe tbody tr th:only-of-type {\n",
       "        vertical-align: middle;\n",
       "    }\n",
       "\n",
       "    .dataframe tbody tr th {\n",
       "        vertical-align: top;\n",
       "    }\n",
       "\n",
       "    .dataframe thead th {\n",
       "        text-align: right;\n",
       "    }\n",
       "</style>\n",
       "<table border=\"1\" class=\"dataframe\">\n",
       "  <thead>\n",
       "    <tr style=\"text-align: right;\">\n",
       "      <th></th>\n",
       "      <th>age</th>\n",
       "      <th>survived</th>\n",
       "    </tr>\n",
       "  </thead>\n",
       "  <tbody>\n",
       "    <tr>\n",
       "      <th>1</th>\n",
       "      <td>38.0</td>\n",
       "      <td>1</td>\n",
       "    </tr>\n",
       "    <tr>\n",
       "      <th>2</th>\n",
       "      <td>26.0</td>\n",
       "      <td>1</td>\n",
       "    </tr>\n",
       "    <tr>\n",
       "      <th>3</th>\n",
       "      <td>35.0</td>\n",
       "      <td>1</td>\n",
       "    </tr>\n",
       "    <tr>\n",
       "      <th>8</th>\n",
       "      <td>27.0</td>\n",
       "      <td>1</td>\n",
       "    </tr>\n",
       "    <tr>\n",
       "      <th>21</th>\n",
       "      <td>34.0</td>\n",
       "      <td>1</td>\n",
       "    </tr>\n",
       "  </tbody>\n",
       "</table>\n",
       "</div>"
      ],
      "text/plain": [
       "     age  survived\n",
       "1   38.0         1\n",
       "2   26.0         1\n",
       "3   35.0         1\n",
       "8   27.0         1\n",
       "21  34.0         1"
      ]
     },
     "execution_count": 22,
     "metadata": {},
     "output_type": "execute_result"
    }
   ],
   "source": [
    "survived_df = filtered_df[filtered_df['survived']==1]\n",
    "survived_df.head()"
   ]
  },
  {
   "cell_type": "code",
   "execution_count": 23,
   "id": "7ee06296-eadd-4267-869f-730feae476b0",
   "metadata": {},
   "outputs": [
    {
     "data": {
      "text/html": [
       "<div>\n",
       "<style scoped>\n",
       "    .dataframe tbody tr th:only-of-type {\n",
       "        vertical-align: middle;\n",
       "    }\n",
       "\n",
       "    .dataframe tbody tr th {\n",
       "        vertical-align: top;\n",
       "    }\n",
       "\n",
       "    .dataframe thead th {\n",
       "        text-align: right;\n",
       "    }\n",
       "</style>\n",
       "<table border=\"1\" class=\"dataframe\">\n",
       "  <thead>\n",
       "    <tr style=\"text-align: right;\">\n",
       "      <th></th>\n",
       "      <th>age</th>\n",
       "      <th>survived</th>\n",
       "    </tr>\n",
       "  </thead>\n",
       "  <tbody>\n",
       "    <tr>\n",
       "      <th>0</th>\n",
       "      <td>22.0</td>\n",
       "      <td>0</td>\n",
       "    </tr>\n",
       "    <tr>\n",
       "      <th>4</th>\n",
       "      <td>35.0</td>\n",
       "      <td>0</td>\n",
       "    </tr>\n",
       "    <tr>\n",
       "      <th>12</th>\n",
       "      <td>20.0</td>\n",
       "      <td>0</td>\n",
       "    </tr>\n",
       "    <tr>\n",
       "      <th>13</th>\n",
       "      <td>39.0</td>\n",
       "      <td>0</td>\n",
       "    </tr>\n",
       "    <tr>\n",
       "      <th>18</th>\n",
       "      <td>31.0</td>\n",
       "      <td>0</td>\n",
       "    </tr>\n",
       "  </tbody>\n",
       "</table>\n",
       "</div>"
      ],
      "text/plain": [
       "     age  survived\n",
       "0   22.0         0\n",
       "4   35.0         0\n",
       "12  20.0         0\n",
       "13  39.0         0\n",
       "18  31.0         0"
      ]
     },
     "execution_count": 23,
     "metadata": {},
     "output_type": "execute_result"
    }
   ],
   "source": [
    "not_survived_df = filtered_df[filtered_df['survived']==0]\n",
    "not_survived_df.head()"
   ]
  },
  {
   "cell_type": "code",
   "execution_count": 29,
   "id": "ab1ef2f9-bde8-429f-ac9f-5f2adea7e661",
   "metadata": {},
   "outputs": [],
   "source": [
    "import scipy.stats"
   ]
  },
  {
   "cell_type": "code",
   "execution_count": 30,
   "id": "ea3131e1-db83-4c53-b82b-6df867b44d4d",
   "metadata": {},
   "outputs": [],
   "source": [
    "kde_survived = scipy.stats.gaussian_kde(survived_df['age'])"
   ]
  },
  {
   "cell_type": "code",
   "execution_count": 31,
   "id": "e0ae8830-48f9-462d-8652-9f02def1c74b",
   "metadata": {},
   "outputs": [],
   "source": [
    "kde_not_survived = scipy.stats.gaussian_kde(not_survived_df[\"age\"])"
   ]
  },
  {
   "cell_type": "code",
   "execution_count": 33,
   "id": "fb8e2e23-b224-4ce3-be2d-dcc306ce80f6",
   "metadata": {},
   "outputs": [
    {
     "name": "stdout",
     "output_type": "stream",
     "text": [
      " Age: 38.0 - prob: 0.03248130176385932\n",
      " Age: 26.0 - prob: 0.053888194588115806\n",
      " Age: 35.0 - prob: 0.04825100034412311\n",
      " Age: 27.0 - prob: 0.053590792888868324\n",
      " Age: 34.0 - prob: 0.05055238254720975\n",
      " Age: 28.0 - prob: 0.053787958841756356\n",
      " Age: 38.0 - prob: 0.03248130176385932\n",
      " Age: 29.0 - prob: 0.05418192917772436\n",
      " Age: 21.0 - prob: 0.033795841998932895\n",
      " Age: 38.0 - prob: 0.03248130176385932\n",
      " Age: 29.0 - prob: 0.05418192917772436\n",
      " Age: 32.0 - prob: 0.05282512548932362\n",
      " Age: 30.0 - prob: 0.054281675953807236\n",
      " Age: 29.0 - prob: 0.05418192917772436\n",
      " Age: 33.0 - prob: 0.05178219329651879\n",
      " Age: 23.0 - prob: 0.05024247968279977\n",
      " Age: 23.0 - prob: 0.05024247968279977\n",
      " Age: 34.0 - prob: 0.05055238254720975\n",
      " Age: 21.0 - prob: 0.033795841998932895\n",
      " Age: 32.5 - prob: 0.05230046322099842\n",
      " Age: 24.0 - prob: 0.053615169654382976\n",
      " Age: 29.0 - prob: 0.05418192917772436\n",
      " Age: 22.0 - prob: 0.04342086982931941\n",
      " Age: 24.0 - prob: 0.053615169654382976\n",
      " Age: 27.0 - prob: 0.053590792888868324\n",
      " Age: 22.0 - prob: 0.04342086982931941\n",
      " Age: 40.0 - prob: 0.02021739704916961\n",
      " Age: 32.0 - prob: 0.05282512548932362\n",
      " Age: 26.0 - prob: 0.053888194588115806\n",
      " Age: 40.0 - prob: 0.02021739704916961\n",
      " Age: 35.0 - prob: 0.04825100034412311\n",
      " Age: 31.0 - prob: 0.05378379066556375\n",
      " Age: 27.0 - prob: 0.053590792888868324\n",
      " Age: 32.0 - prob: 0.05282512548932362\n",
      " Age: 38.0 - prob: 0.03248130176385932\n",
      " Age: 35.0 - prob: 0.04825100034412311\n",
      " Age: 24.0 - prob: 0.053615169654382976\n",
      " Age: 37.0 - prob: 0.038497605258439774\n",
      " Age: 29.0 - prob: 0.05418192917772436\n",
      " Age: 30.0 - prob: 0.054281675953807236\n",
      " Age: 35.0 - prob: 0.04825100034412311\n",
      " Age: 25.0 - prob: 0.05431314543391106\n",
      " Age: 35.0 - prob: 0.04825100034412311\n",
      " Age: 25.0 - prob: 0.05431314543391106\n",
      " Age: 35.0 - prob: 0.04825100034412311\n",
      " Age: 30.0 - prob: 0.054281675953807236\n",
      " Age: 22.0 - prob: 0.04342086982931941\n",
      " Age: 26.0 - prob: 0.053888194588115806\n",
      " Age: 30.0 - prob: 0.054281675953807236\n",
      " Age: 24.0 - prob: 0.053615169654382976\n",
      " Age: 26.0 - prob: 0.053888194588115806\n",
      " Age: 24.0 - prob: 0.053615169654382976\n",
      " Age: 31.0 - prob: 0.05378379066556375\n",
      " Age: 40.0 - prob: 0.02021739704916961\n",
      " Age: 30.0 - prob: 0.054281675953807236\n",
      " Age: 22.0 - prob: 0.04342086982931941\n",
      " Age: 36.0 - prob: 0.04410747723184809\n",
      " Age: 36.0 - prob: 0.04410747723184809\n",
      " Age: 31.0 - prob: 0.05378379066556375\n",
      " Age: 24.0 - prob: 0.053615169654382976\n",
      " Age: 24.0 - prob: 0.053615169654382976\n",
      " Age: 40.0 - prob: 0.02021739704916961\n",
      " Age: 22.0 - prob: 0.04342086982931941\n",
      " Age: 24.0 - prob: 0.053615169654382976\n",
      " Age: 25.0 - prob: 0.05431314543391106\n",
      " Age: 22.0 - prob: 0.04342086982931941\n",
      " Age: 35.0 - prob: 0.04825100034412311\n",
      " Age: 36.0 - prob: 0.04410747723184809\n",
      " Age: 36.0 - prob: 0.04410747723184809\n",
      " Age: 21.0 - prob: 0.033795841998932895\n",
      " Age: 23.0 - prob: 0.05024247968279977\n",
      " Age: 24.0 - prob: 0.053615169654382976\n",
      " Age: 28.0 - prob: 0.053787958841756356\n",
      " Age: 39.0 - prob: 0.026490551894018145\n",
      " Age: 33.0 - prob: 0.05178219329651879\n",
      " Age: 34.0 - prob: 0.05055238254720975\n",
      " Age: 28.0 - prob: 0.053787958841756356\n",
      " Age: 32.0 - prob: 0.05282512548932362\n",
      " Age: 28.0 - prob: 0.053787958841756356\n",
      " Age: 24.0 - prob: 0.053615169654382976\n",
      " Age: 28.0 - prob: 0.053787958841756356\n",
      " Age: 34.0 - prob: 0.05055238254720975\n",
      " Age: 29.0 - prob: 0.05418192917772436\n",
      " Age: 33.0 - prob: 0.05178219329651879\n",
      " Age: 23.0 - prob: 0.05024247968279977\n",
      " Age: 25.0 - prob: 0.05431314543391106\n",
      " Age: 35.0 - prob: 0.04825100034412311\n",
      " Age: 33.0 - prob: 0.05178219329651879\n",
      " Age: 26.0 - prob: 0.053888194588115806\n",
      " Age: 29.0 - prob: 0.05418192917772436\n",
      " Age: 36.0 - prob: 0.04410747723184809\n",
      " Age: 34.0 - prob: 0.05055238254720975\n",
      " Age: 36.0 - prob: 0.04410747723184809\n",
      " Age: 30.0 - prob: 0.054281675953807236\n",
      " Age: 30.0 - prob: 0.054281675953807236\n",
      " Age: 22.0 - prob: 0.04342086982931941\n",
      " Age: 36.0 - prob: 0.04410747723184809\n",
      " Age: 32.0 - prob: 0.05282512548932362\n",
      " Age: 22.0 - prob: 0.04342086982931941\n",
      " Age: 22.0 - prob: 0.04342086982931941\n",
      " Age: 39.0 - prob: 0.026490551894018145\n",
      " Age: 36.0 - prob: 0.04410747723184809\n",
      " Age: 32.0 - prob: 0.05282512548932362\n",
      " Age: 36.0 - prob: 0.04410747723184809\n",
      " Age: 34.0 - prob: 0.05055238254720975\n",
      " Age: 39.0 - prob: 0.026490551894018145\n",
      " Age: 32.0 - prob: 0.05282512548932362\n",
      " Age: 25.0 - prob: 0.05431314543391106\n",
      " Age: 39.0 - prob: 0.026490551894018145\n",
      " Age: 24.0 - prob: 0.053615169654382976\n",
      " Age: 35.0 - prob: 0.04825100034412311\n",
      " Age: 27.0 - prob: 0.053590792888868324\n",
      " Age: 22.0 - prob: 0.04342086982931941\n",
      " Age: 40.0 - prob: 0.02021739704916961\n",
      " Age: 24.0 - prob: 0.053615169654382976\n",
      " Age: 20.0 - prob: 0.023206622484304315\n",
      " Age: 21.0 - prob: 0.033795841998932895\n",
      " Age: 32.0 - prob: 0.05282512548932362\n",
      " Age: 28.0 - prob: 0.053787958841756356\n",
      " Age: 24.0 - prob: 0.053615169654382976\n",
      " Age: 23.0 - prob: 0.05024247968279977\n",
      " Age: 20.0 - prob: 0.023206622484304315\n",
      " Age: 40.0 - prob: 0.02021739704916961\n",
      " Age: 31.0 - prob: 0.05378379066556375\n",
      " Age: 36.0 - prob: 0.04410747723184809\n",
      " Age: 27.0 - prob: 0.053590792888868324\n",
      " Age: 31.0 - prob: 0.05378379066556375\n",
      " Age: 35.0 - prob: 0.04825100034412311\n",
      " Age: 22.0 - prob: 0.04342086982931941\n",
      " Age: 24.0 - prob: 0.053615169654382976\n",
      " Age: 38.0 - prob: 0.03248130176385932\n",
      " Age: 27.0 - prob: 0.053590792888868324\n",
      " Age: 27.0 - prob: 0.053590792888868324\n",
      " Age: 30.0 - prob: 0.054281675953807236\n",
      " Age: 29.0 - prob: 0.05418192917772436\n",
      " Age: 35.0 - prob: 0.04825100034412311\n",
      " Age: 21.0 - prob: 0.033795841998932895\n",
      " Age: 31.0 - prob: 0.05378379066556375\n",
      " Age: 30.0 - prob: 0.054281675953807236\n",
      " Age: 33.0 - prob: 0.05178219329651879\n",
      " Age: 20.0 - prob: 0.023206622484304315\n",
      " Age: 36.0 - prob: 0.04410747723184809\n",
      " Age: 31.0 - prob: 0.05378379066556375\n",
      " Age: 31.0 - prob: 0.05378379066556375\n",
      " Age: 27.0 - prob: 0.053590792888868324\n",
      " Age: 33.0 - prob: 0.05178219329651879\n",
      " Age: 27.0 - prob: 0.053590792888868324\n",
      " Age: 27.0 - prob: 0.053590792888868324\n",
      " Age: 39.0 - prob: 0.026490551894018145\n",
      " Age: 32.0 - prob: 0.05282512548932362\n",
      " Age: 30.0 - prob: 0.054281675953807236\n",
      " Age: 24.0 - prob: 0.053615169654382976\n",
      " Age: 27.0 - prob: 0.053590792888868324\n",
      " Age: 28.0 - prob: 0.053787958841756356\n",
      " Age: 25.0 - prob: 0.05431314543391106\n",
      " Age: 26.0 - prob: 0.053888194588115806\n"
     ]
    }
   ],
   "source": [
    "# To show the probaility of surviving for different ages is demonstrated below\n",
    "for age, probability in zip(survived_df['age'],kde_survived(survived_df['age'])):\n",
    "    print(f\" Age: {age} - prob: {probability}\")"
   ]
  },
  {
   "cell_type": "code",
   "execution_count": 34,
   "id": "ea2b8677-714a-4703-82bb-5da57c9246e9",
   "metadata": {},
   "outputs": [
    {
     "name": "stdout",
     "output_type": "stream",
     "text": [
      " Age: 22.0 - prob: 0.05588161712157624\n",
      " Age: 35.0 - prob: 0.03593799347065193\n",
      " Age: 20.0 - prob: 0.037819021595753226\n",
      " Age: 39.0 - prob: 0.02397604674758244\n",
      " Age: 31.0 - prob: 0.048055496306574\n",
      " Age: 35.0 - prob: 0.03593799347065193\n",
      " Age: 40.0 - prob: 0.01838276142800467\n",
      " Age: 28.0 - prob: 0.05506411298046218\n",
      " Age: 21.0 - prob: 0.04905902431471325\n",
      " Age: 40.0 - prob: 0.01838276142800467\n",
      " Age: 27.0 - prob: 0.055063749512475293\n",
      " Age: 21.0 - prob: 0.04905902431471325\n",
      " Age: 28.5 - prob: 0.0549225219529391\n",
      " Age: 22.0 - prob: 0.05588161712157624\n",
      " Age: 26.0 - prob: 0.055751644592576234\n",
      " Age: 32.0 - prob: 0.04384846920791423\n",
      " Age: 21.0 - prob: 0.04905902431471325\n",
      " Age: 26.0 - prob: 0.055751644592576234\n",
      " Age: 25.0 - prob: 0.057221423720740835\n",
      " Age: 22.0 - prob: 0.05588161712157624\n",
      " Age: 28.0 - prob: 0.05506411298046218\n",
      " Age: 24.0 - prob: 0.05851324729812316\n",
      " Age: 29.0 - prob: 0.054427498159033555\n",
      " Age: 20.0 - prob: 0.037819021595753226\n",
      " Age: 26.0 - prob: 0.055751644592576234\n",
      " Age: 34.0 - prob: 0.03796688625143951\n",
      " Age: 28.0 - prob: 0.05506411298046218\n",
      " Age: 21.0 - prob: 0.04905902431471325\n",
      " Age: 33.0 - prob: 0.04043504529228154\n",
      " Age: 37.0 - prob: 0.0312871715538507\n",
      " Age: 28.0 - prob: 0.05506411298046218\n",
      " Age: 38.0 - prob: 0.028178175218961928\n",
      " Age: 22.0 - prob: 0.05588161712157624\n",
      " Age: 20.0 - prob: 0.037819021595753226\n",
      " Age: 21.0 - prob: 0.04905902431471325\n",
      " Age: 29.0 - prob: 0.054427498159033555\n",
      " Age: 24.0 - prob: 0.05851324729812316\n",
      " Age: 21.0 - prob: 0.04905902431471325\n",
      " Age: 32.5 - prob: 0.04201122342003951\n",
      " Age: 33.0 - prob: 0.04043504529228154\n",
      " Age: 20.0 - prob: 0.037819021595753226\n",
      " Age: 25.0 - prob: 0.057221423720740835\n",
      " Age: 23.0 - prob: 0.05851195696518286\n",
      " Age: 37.0 - prob: 0.0312871715538507\n",
      " Age: 24.0 - prob: 0.05851324729812316\n",
      " Age: 36.5 - prob: 0.03259862750693907\n",
      " Age: 30.0 - prob: 0.052005758204516056\n",
      " Age: 26.0 - prob: 0.055751644592576234\n",
      " Age: 28.0 - prob: 0.05506411298046218\n",
      " Age: 21.0 - prob: 0.04905902431471325\n",
      " Age: 30.0 - prob: 0.052005758204516056\n",
      " Age: 36.0 - prob: 0.03379888150856532\n",
      " Age: 40.0 - prob: 0.01838276142800467\n",
      " Age: 36.0 - prob: 0.03379888150856532\n",
      " Age: 24.0 - prob: 0.05851324729812316\n",
      " Age: 28.0 - prob: 0.05506411298046218\n",
      " Age: 34.0 - prob: 0.03796688625143951\n",
      " Age: 32.0 - prob: 0.04384846920791423\n",
      " Age: 24.0 - prob: 0.05851324729812316\n",
      " Age: 22.0 - prob: 0.05588161712157624\n",
      " Age: 30.0 - prob: 0.052005758204516056\n",
      " Age: 30.0 - prob: 0.052005758204516056\n",
      " Age: 27.0 - prob: 0.055063749512475293\n",
      " Age: 22.0 - prob: 0.05588161712157624\n",
      " Age: 20.5 - prob: 0.04389983968791648\n",
      " Age: 29.0 - prob: 0.054427498159033555\n",
      " Age: 24.0 - prob: 0.05851324729812316\n",
      " Age: 33.0 - prob: 0.04043504529228154\n",
      " Age: 29.0 - prob: 0.054427498159033555\n",
      " Age: 22.0 - prob: 0.05588161712157624\n",
      " Age: 30.0 - prob: 0.052005758204516056\n",
      " Age: 25.0 - prob: 0.057221423720740835\n",
      " Age: 29.0 - prob: 0.054427498159033555\n",
      " Age: 30.0 - prob: 0.052005758204516056\n",
      " Age: 40.0 - prob: 0.01838276142800467\n",
      " Age: 36.0 - prob: 0.03379888150856532\n",
      " Age: 37.0 - prob: 0.0312871715538507\n",
      " Age: 28.0 - prob: 0.05506411298046218\n",
      " Age: 33.0 - prob: 0.04043504529228154\n",
      " Age: 22.0 - prob: 0.05588161712157624\n",
      " Age: 36.0 - prob: 0.03379888150856532\n",
      " Age: 24.0 - prob: 0.05851324729812316\n",
      " Age: 24.0 - prob: 0.05851324729812316\n",
      " Age: 23.5 - prob: 0.05874594513753218\n",
      " Age: 30.0 - prob: 0.052005758204516056\n",
      " Age: 26.0 - prob: 0.055751644592576234\n",
      " Age: 28.0 - prob: 0.05506411298046218\n",
      " Age: 22.0 - prob: 0.05588161712157624\n",
      " Age: 27.0 - prob: 0.055063749512475293\n",
      " Age: 38.0 - prob: 0.028178175218961928\n",
      " Age: 29.0 - prob: 0.054427498159033555\n",
      " Age: 28.0 - prob: 0.05506411298046218\n",
      " Age: 25.0 - prob: 0.057221423720740835\n",
      " Age: 36.0 - prob: 0.03379888150856532\n",
      " Age: 23.0 - prob: 0.05851195696518286\n",
      " Age: 25.0 - prob: 0.057221423720740835\n",
      " Age: 28.0 - prob: 0.05506411298046218\n",
      " Age: 38.0 - prob: 0.028178175218961928\n",
      " Age: 40.0 - prob: 0.01838276142800467\n",
      " Age: 29.0 - prob: 0.054427498159033555\n",
      " Age: 35.0 - prob: 0.03593799347065193\n",
      " Age: 30.0 - prob: 0.052005758204516056\n",
      " Age: 22.0 - prob: 0.05588161712157624\n",
      " Age: 27.0 - prob: 0.055063749512475293\n",
      " Age: 20.0 - prob: 0.037819021595753226\n",
      " Age: 32.0 - prob: 0.04384846920791423\n",
      " Age: 28.0 - prob: 0.05506411298046218\n",
      " Age: 22.0 - prob: 0.05588161712157624\n",
      " Age: 31.0 - prob: 0.048055496306574\n",
      " Age: 23.0 - prob: 0.05851195696518286\n",
      " Age: 26.0 - prob: 0.055751644592576234\n",
      " Age: 21.0 - prob: 0.04905902431471325\n",
      " Age: 28.0 - prob: 0.05506411298046218\n",
      " Age: 20.0 - prob: 0.037819021595753226\n",
      " Age: 34.0 - prob: 0.03796688625143951\n",
      " Age: 21.0 - prob: 0.04905902431471325\n",
      " Age: 30.0 - prob: 0.052005758204516056\n",
      " Age: 21.0 - prob: 0.04905902431471325\n",
      " Age: 29.0 - prob: 0.054427498159033555\n",
      " Age: 28.0 - prob: 0.05506411298046218\n",
      " Age: 21.0 - prob: 0.04905902431471325\n",
      " Age: 31.0 - prob: 0.048055496306574\n",
      " Age: 20.0 - prob: 0.037819021595753226\n",
      " Age: 25.0 - prob: 0.057221423720740835\n",
      " Age: 36.0 - prob: 0.03379888150856532\n",
      " Age: 30.0 - prob: 0.052005758204516056\n",
      " Age: 34.0 - prob: 0.03796688625143951\n",
      " Age: 38.0 - prob: 0.028178175218961928\n",
      " Age: 38.0 - prob: 0.028178175218961928\n",
      " Age: 22.0 - prob: 0.05588161712157624\n",
      " Age: 34.0 - prob: 0.03796688625143951\n",
      " Age: 29.0 - prob: 0.054427498159033555\n",
      " Age: 22.0 - prob: 0.05588161712157624\n",
      " Age: 30.0 - prob: 0.052005758204516056\n",
      " Age: 21.0 - prob: 0.04905902431471325\n",
      " Age: 21.0 - prob: 0.04905902431471325\n",
      " Age: 25.0 - prob: 0.057221423720740835\n",
      " Age: 24.0 - prob: 0.05851324729812316\n",
      " Age: 21.0 - prob: 0.04905902431471325\n",
      " Age: 37.0 - prob: 0.0312871715538507\n",
      " Age: 28.0 - prob: 0.05506411298046218\n",
      " Age: 24.0 - prob: 0.05851324729812316\n",
      " Age: 32.0 - prob: 0.04384846920791423\n",
      " Age: 22.0 - prob: 0.05588161712157624\n",
      " Age: 39.0 - prob: 0.02397604674758244\n",
      " Age: 23.0 - prob: 0.05851195696518286\n",
      " Age: 30.0 - prob: 0.052005758204516056\n",
      " Age: 33.0 - prob: 0.04043504529228154\n",
      " Age: 27.0 - prob: 0.055063749512475293\n",
      " Age: 40.0 - prob: 0.01838276142800467\n",
      " Age: 28.0 - prob: 0.05506411298046218\n",
      " Age: 24.0 - prob: 0.05851324729812316\n",
      " Age: 29.0 - prob: 0.054427498159033555\n",
      " Age: 36.0 - prob: 0.03379888150856532\n",
      " Age: 22.0 - prob: 0.05588161712157624\n",
      " Age: 35.0 - prob: 0.03593799347065193\n",
      " Age: 37.0 - prob: 0.0312871715538507\n",
      " Age: 36.0 - prob: 0.03379888150856532\n",
      " Age: 36.0 - prob: 0.03379888150856532\n",
      " Age: 30.0 - prob: 0.052005758204516056\n",
      " Age: 39.0 - prob: 0.02397604674758244\n",
      " Age: 35.0 - prob: 0.03593799347065193\n",
      " Age: 34.0 - prob: 0.03796688625143951\n",
      " Age: 26.0 - prob: 0.055751644592576234\n",
      " Age: 26.0 - prob: 0.055751644592576234\n",
      " Age: 27.0 - prob: 0.055063749512475293\n",
      " Age: 21.0 - prob: 0.04905902431471325\n",
      " Age: 21.0 - prob: 0.04905902431471325\n",
      " Age: 26.0 - prob: 0.055751644592576234\n",
      " Age: 32.0 - prob: 0.04384846920791423\n",
      " Age: 31.0 - prob: 0.048055496306574\n",
      " Age: 20.0 - prob: 0.037819021595753226\n",
      " Age: 21.0 - prob: 0.04905902431471325\n",
      " Age: 24.0 - prob: 0.05851324729812316\n",
      " Age: 32.0 - prob: 0.04384846920791423\n",
      " Age: 23.0 - prob: 0.05851195696518286\n",
      " Age: 40.0 - prob: 0.01838276142800467\n",
      " Age: 36.0 - prob: 0.03379888150856532\n",
      " Age: 32.0 - prob: 0.04384846920791423\n",
      " Age: 25.0 - prob: 0.057221423720740835\n",
      " Age: 31.0 - prob: 0.048055496306574\n",
      " Age: 24.5 - prob: 0.05796052855454637\n",
      " Age: 20.0 - prob: 0.037819021595753226\n",
      " Age: 25.0 - prob: 0.057221423720740835\n",
      " Age: 25.0 - prob: 0.057221423720740835\n",
      " Age: 25.0 - prob: 0.057221423720740835\n",
      " Age: 26.0 - prob: 0.055751644592576234\n",
      " Age: 39.0 - prob: 0.02397604674758244\n",
      " Age: 29.0 - prob: 0.054427498159033555\n",
      " Age: 33.0 - prob: 0.04043504529228154\n",
      " Age: 34.0 - prob: 0.03796688625143951\n",
      " Age: 20.0 - prob: 0.037819021595753226\n",
      " Age: 25.0 - prob: 0.057221423720740835\n",
      " Age: 25.0 - prob: 0.057221423720740835\n",
      " Age: 23.0 - prob: 0.05851195696518286\n",
      " Age: 23.0 - prob: 0.05851195696518286\n",
      " Age: 28.5 - prob: 0.0549225219529391\n",
      " Age: 36.0 - prob: 0.03379888150856532\n",
      " Age: 24.0 - prob: 0.05851324729812316\n",
      " Age: 31.0 - prob: 0.048055496306574\n",
      " Age: 33.0 - prob: 0.04043504529228154\n",
      " Age: 23.0 - prob: 0.05851195696518286\n",
      " Age: 28.0 - prob: 0.05506411298046218\n",
      " Age: 34.0 - prob: 0.03796688625143951\n",
      " Age: 30.5 - prob: 0.050151555939329746\n",
      " Age: 32.0 - prob: 0.04384846920791423\n",
      " Age: 24.0 - prob: 0.05851324729812316\n",
      " Age: 29.0 - prob: 0.054427498159033555\n",
      " Age: 25.0 - prob: 0.057221423720740835\n",
      " Age: 25.0 - prob: 0.057221423720740835\n",
      " Age: 25.0 - prob: 0.057221423720740835\n",
      " Age: 39.0 - prob: 0.02397604674758244\n",
      " Age: 30.0 - prob: 0.052005758204516056\n",
      " Age: 30.0 - prob: 0.052005758204516056\n",
      " Age: 34.0 - prob: 0.03796688625143951\n",
      " Age: 31.0 - prob: 0.048055496306574\n",
      " Age: 39.0 - prob: 0.02397604674758244\n",
      " Age: 39.0 - prob: 0.02397604674758244\n",
      " Age: 26.0 - prob: 0.055751644592576234\n",
      " Age: 39.0 - prob: 0.02397604674758244\n",
      " Age: 35.0 - prob: 0.03593799347065193\n",
      " Age: 30.5 - prob: 0.050151555939329746\n",
      " Age: 23.0 - prob: 0.05851195696518286\n",
      " Age: 31.0 - prob: 0.048055496306574\n",
      " Age: 38.0 - prob: 0.028178175218961928\n",
      " Age: 23.0 - prob: 0.05851195696518286\n",
      " Age: 21.0 - prob: 0.04905902431471325\n",
      " Age: 20.0 - prob: 0.037819021595753226\n",
      " Age: 34.5 - prob: 0.0369374595074641\n",
      " Age: 35.0 - prob: 0.03593799347065193\n",
      " Age: 28.0 - prob: 0.05506411298046218\n",
      " Age: 21.0 - prob: 0.04905902431471325\n",
      " Age: 24.0 - prob: 0.05851324729812316\n",
      " Age: 31.0 - prob: 0.048055496306574\n",
      " Age: 26.0 - prob: 0.055751644592576234\n",
      " Age: 33.0 - prob: 0.04043504529228154\n",
      " Age: 20.0 - prob: 0.037819021595753226\n",
      " Age: 33.0 - prob: 0.04043504529228154\n",
      " Age: 22.0 - prob: 0.05588161712157624\n",
      " Age: 28.0 - prob: 0.05506411298046218\n",
      " Age: 25.0 - prob: 0.057221423720740835\n",
      " Age: 39.0 - prob: 0.02397604674758244\n",
      " Age: 27.0 - prob: 0.055063749512475293\n",
      " Age: 32.0 - prob: 0.04384846920791423\n"
     ]
    }
   ],
   "source": [
    "# To show the probaility of not surviving for different ages is demonstrated below\n",
    "for age, probability in zip(not_survived_df['age'],kde_not_survived(not_survived_df['age'])):\n",
    "    print(f\" Age: {age} - prob: {probability}\")"
   ]
  },
  {
   "cell_type": "code",
   "execution_count": null,
   "id": "4346127a-0234-4f90-ba15-f926c2f9135e",
   "metadata": {},
   "outputs": [],
   "source": []
  }
 ],
 "metadata": {
  "kernelspec": {
   "display_name": "Python 3 (ipykernel)",
   "language": "python",
   "name": "python3"
  },
  "language_info": {
   "codemirror_mode": {
    "name": "ipython",
    "version": 3
   },
   "file_extension": ".py",
   "mimetype": "text/x-python",
   "name": "python",
   "nbconvert_exporter": "python",
   "pygments_lexer": "ipython3",
   "version": "3.11.7"
  }
 },
 "nbformat": 4,
 "nbformat_minor": 5
}
